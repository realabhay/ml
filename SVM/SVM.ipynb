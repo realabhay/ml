{
 "cells": [
  {
   "cell_type": "markdown",
   "id": "24332cd9",
   "metadata": {},
   "source": [
    "# SVM implementation"
   ]
  },
  {
   "cell_type": "code",
   "execution_count": 105,
   "id": "5979f693",
   "metadata": {},
   "outputs": [],
   "source": [
    "# Import necessary modules\n",
    "import pandas as pd\n",
    "from sklearn.model_selection import train_test_split\n",
    "from sklearn.svm import SVC\n",
    "from sklearn import svm, datasets"
   ]
  },
  {
   "cell_type": "code",
   "execution_count": 106,
   "id": "58998f53",
   "metadata": {},
   "outputs": [
    {
     "data": {
      "text/html": [
       "<div>\n",
       "<style scoped>\n",
       "    .dataframe tbody tr th:only-of-type {\n",
       "        vertical-align: middle;\n",
       "    }\n",
       "\n",
       "    .dataframe tbody tr th {\n",
       "        vertical-align: top;\n",
       "    }\n",
       "\n",
       "    .dataframe thead th {\n",
       "        text-align: right;\n",
       "    }\n",
       "</style>\n",
       "<table border=\"1\" class=\"dataframe\">\n",
       "  <thead>\n",
       "    <tr style=\"text-align: right;\">\n",
       "      <th></th>\n",
       "      <th>Pregnancies</th>\n",
       "      <th>Glucose</th>\n",
       "      <th>BloodPressure</th>\n",
       "      <th>SkinThickness</th>\n",
       "      <th>Insulin</th>\n",
       "      <th>BMI</th>\n",
       "      <th>DiabetesPedigreeFunction</th>\n",
       "      <th>Age</th>\n",
       "      <th>Outcome</th>\n",
       "    </tr>\n",
       "  </thead>\n",
       "  <tbody>\n",
       "    <tr>\n",
       "      <th>0</th>\n",
       "      <td>6</td>\n",
       "      <td>148</td>\n",
       "      <td>72</td>\n",
       "      <td>35</td>\n",
       "      <td>0</td>\n",
       "      <td>33.6</td>\n",
       "      <td>0.627</td>\n",
       "      <td>50</td>\n",
       "      <td>1</td>\n",
       "    </tr>\n",
       "    <tr>\n",
       "      <th>1</th>\n",
       "      <td>1</td>\n",
       "      <td>85</td>\n",
       "      <td>66</td>\n",
       "      <td>29</td>\n",
       "      <td>0</td>\n",
       "      <td>26.6</td>\n",
       "      <td>0.351</td>\n",
       "      <td>31</td>\n",
       "      <td>0</td>\n",
       "    </tr>\n",
       "    <tr>\n",
       "      <th>2</th>\n",
       "      <td>8</td>\n",
       "      <td>183</td>\n",
       "      <td>64</td>\n",
       "      <td>0</td>\n",
       "      <td>0</td>\n",
       "      <td>23.3</td>\n",
       "      <td>0.672</td>\n",
       "      <td>32</td>\n",
       "      <td>1</td>\n",
       "    </tr>\n",
       "    <tr>\n",
       "      <th>3</th>\n",
       "      <td>1</td>\n",
       "      <td>89</td>\n",
       "      <td>66</td>\n",
       "      <td>23</td>\n",
       "      <td>94</td>\n",
       "      <td>28.1</td>\n",
       "      <td>0.167</td>\n",
       "      <td>21</td>\n",
       "      <td>0</td>\n",
       "    </tr>\n",
       "    <tr>\n",
       "      <th>4</th>\n",
       "      <td>0</td>\n",
       "      <td>137</td>\n",
       "      <td>40</td>\n",
       "      <td>35</td>\n",
       "      <td>168</td>\n",
       "      <td>43.1</td>\n",
       "      <td>2.288</td>\n",
       "      <td>33</td>\n",
       "      <td>1</td>\n",
       "    </tr>\n",
       "  </tbody>\n",
       "</table>\n",
       "</div>"
      ],
      "text/plain": [
       "   Pregnancies  Glucose  BloodPressure  SkinThickness  Insulin   BMI  \\\n",
       "0            6      148             72             35        0  33.6   \n",
       "1            1       85             66             29        0  26.6   \n",
       "2            8      183             64              0        0  23.3   \n",
       "3            1       89             66             23       94  28.1   \n",
       "4            0      137             40             35      168  43.1   \n",
       "\n",
       "   DiabetesPedigreeFunction  Age  Outcome  \n",
       "0                     0.627   50        1  \n",
       "1                     0.351   31        0  \n",
       "2                     0.672   32        1  \n",
       "3                     0.167   21        0  \n",
       "4                     2.288   33        1  "
      ]
     },
     "execution_count": 106,
     "metadata": {},
     "output_type": "execute_result"
    }
   ],
   "source": [
    "# Download the fish dataset\n",
    "#dataset_url = \"https://raw.githubusercontent.com/harika-bonthu/SupportVectorClassifier/main/datasets_229906_491820_Fish.csv\"\n",
    "#fish = pd.read_csv(dataset_url)\n",
    "#fish\n",
    "# import some data to play with\n",
    "#iris = datasets.load_iris()\n",
    "#X = iris.data[:, :2]  # we only take the first two features. We could\n",
    "                      # avoid this ugly slicing by using a two-dim dataset\n",
    "#y = iris.target\n",
    "# load the dataset\n",
    "df = pd.read_csv(\"diabetes.csv\")\n",
    "# See how our dataset is structured u\n",
    "df.head()"
   ]
  },
  {
   "cell_type": "code",
   "execution_count": 107,
   "id": "84cbeac9",
   "metadata": {},
   "outputs": [],
   "source": [
    "# Adding x and y variables\n",
    "# The x variable will hold all the input columns, while the y variable will hold the output column.\n",
    "# In our case, our output column is the Output column. The remaining columns will be used as model inputs.\n",
    "X = df.drop(\"Outcome\",axis=\"columns\")\n",
    "y = df.Outcome"
   ]
  },
  {
   "cell_type": "code",
   "execution_count": 108,
   "id": "2896bfb5",
   "metadata": {},
   "outputs": [],
   "source": [
    "# Scaling data\n",
    "#from sklearn.preprocessing import MinMaxScaler\n",
    "#scaler = MinMaxScaler()\n",
    "#X = scaler.fit_transform(X)\n",
    "\n",
    "# Dataset scaling - Dataset scaling is transforming a dataset to fit within a specific range.\n",
    "from sklearn.preprocessing import StandardScaler\n",
    "scaler = StandardScaler()\n",
    "X_scaled = scaler.fit_transform(X)"
   ]
  },
  {
   "cell_type": "code",
   "execution_count": 109,
   "id": "11af29be",
   "metadata": {},
   "outputs": [],
   "source": [
    "# Define the Feature and the Target variables\n",
    "#X = fish.drop(['Species'], axis = 'columns')\n",
    "#y = fish.Species"
   ]
  },
  {
   "cell_type": "code",
   "execution_count": 110,
   "id": "627463bf",
   "metadata": {},
   "outputs": [],
   "source": [
    "# Split the data into train, test sets using train_test_split\n",
    "\n",
    "X_train, X_test, y_train, y_test = train_test_split(X, y, test_size= 0.2,random_state = 0)"
   ]
  },
  {
   "cell_type": "code",
   "execution_count": 111,
   "id": "38cab319",
   "metadata": {},
   "outputs": [
    {
     "name": "stdout",
     "output_type": "stream",
     "text": [
      "shape of Training data X_train :(614, 8)\n",
      "shape of Test Data X_test :(154, 8)\n",
      "shape of Training Labels y_train :(614,)\n",
      "shape of Test Labels y_test :(154,)\n"
     ]
    }
   ],
   "source": [
    "print(\"shape of Training data X_train :\"+str(X_train.shape))\n",
    "print(\"shape of Test Data X_test :\"+str(X_test.shape))\n",
    "print(\"shape of Training Labels y_train :\"+str(y_train.shape))\n",
    "print(\"shape of Test Labels y_test :\"+str(y_test.shape))"
   ]
  },
  {
   "cell_type": "code",
   "execution_count": 112,
   "id": "22ba45f8",
   "metadata": {},
   "outputs": [],
   "source": [
    "#Instantiate Linear SVC object\n",
    "\n",
    "model = SVC(kernel = 'linear', C = 1)"
   ]
  },
  {
   "cell_type": "code",
   "execution_count": 113,
   "id": "0f6e34e5",
   "metadata": {},
   "outputs": [
    {
     "data": {
      "text/plain": [
       "SVC(C=1, kernel='linear')"
      ]
     },
     "execution_count": 113,
     "metadata": {},
     "output_type": "execute_result"
    }
   ],
   "source": [
    "# Train the linear SVC classifier using the training data\n",
    "\n",
    "model.fit(X_train, y_train)"
   ]
  },
  {
   "cell_type": "code",
   "execution_count": 114,
   "id": "b7b8e0e1",
   "metadata": {},
   "outputs": [],
   "source": [
    "#Make predictions\n",
    "svm_pred = model.predict(X_test)"
   ]
  },
  {
   "cell_type": "code",
   "execution_count": 115,
   "id": "04c8060e",
   "metadata": {},
   "outputs": [
    {
     "data": {
      "text/plain": [
       "0.8181818181818182"
      ]
     },
     "execution_count": 115,
     "metadata": {},
     "output_type": "execute_result"
    }
   ],
   "source": [
    "# Check the accuracy of the model using the scoring method\n",
    "accuracy = model.score(X_test, y_test)\n",
    "accuracy"
   ]
  },
  {
   "cell_type": "code",
   "execution_count": null,
   "id": "fee73760",
   "metadata": {},
   "outputs": [
    {
     "name": "stdout",
     "output_type": "stream",
     "text": [
      "Linear SVM value of C:1, training score :0.765472 , Test Score: 0.818182 \n",
      "\n",
      "Linear SVM value of C:3, training score :0.768730 , Test Score: 0.818182 \n",
      "\n",
      "Linear SVM value of C:5, training score :0.765472 , Test Score: 0.818182 \n",
      "\n",
      "Linear SVM value of C:10, training score :0.763844 , Test Score: 0.818182 \n",
      "\n",
      "Linear SVM value of C:40, training score :0.767101 , Test Score: 0.792208 \n",
      "\n",
      "Linear SVM value of C:60, training score :0.771987 , Test Score: 0.785714 \n",
      "\n",
      "Linear SVM value of C:80, training score :0.768730 , Test Score: 0.779221 \n",
      "\n"
     ]
    }
   ],
   "source": [
    "for this_C in [1,3,5,10,40,60,80,100]:\n",
    "    clf = SVC(kernel='linear',C=this_C).fit(X_train,y_train)\n",
    "    scoretrain = clf.score(X_train,y_train)\n",
    "    scoretest  = clf.score(X_test,y_test)\n",
    "    print(\"Linear SVM value of C:{}, training score :{:2f} , Test Score: {:2f} \\n\".format(this_C,scoretrain,scoretest))"
   ]
  },
  {
   "cell_type": "code",
   "execution_count": null,
   "id": "e9e9b86a",
   "metadata": {},
   "outputs": [],
   "source": [
    "from sklearn.model_selection import cross_val_score,StratifiedKFold,LeaveOneOut\n",
    "clf1 = SVC(kernel='linear',C=20).fit(X_train,y_train)\n",
    "scores = cross_val_score(clf1,X_train,y_train,cv=5)\n",
    "strat_scores = cross_val_score(clf1,X_train,y_train,cv=StratifiedKFold(5,random_state=10,shuffle=True))\n",
    "#Loo = LeaveOneOut()\n",
    "#Loo_scores = cross_val_score(clf1,X_train,Y_train,cv=Loo)\n",
    "print(\"The Cross Validation Score :\"+str(scores))\n",
    "print(\"The Average Cross Validation Score :\"+str(scores.mean()))\n",
    "print(\"The Stratified Cross Validation Score :\"+str(strat_scores))\n",
    "print(\"The Average Stratified Cross Validation Score :\"+str(strat_scores.mean()))\n",
    "#print(\"The LeaveOneOut Cross Validation Score :\"+str(Loo_scores))\n",
    "#print(\"The Average LeaveOneOut Cross Validation Score :\"+str(Loo_scores.mean()))"
   ]
  },
  {
   "cell_type": "code",
   "execution_count": null,
   "id": "964328c1",
   "metadata": {},
   "outputs": [],
   "source": [
    "# SMV with RBF KERNAL AND ONLY C PARAMETER \n",
    "\n",
    "for this_C in [1,5,10,25,50,100]:\n",
    "    clf3 = SVC(kernel='rbf',C=this_C).fit(X_train,y_train)\n",
    "    clf3train = clf3.score(X_train,y_train)\n",
    "    clf3test  = clf3.score(X_test,y_test)\n",
    "    print(\"SVM for Non Linear \\n C:{} Training Score : {:2f} Test Score : {:2f}\\n\".format(this_C,clf3train,clf3test))"
   ]
  },
  {
   "cell_type": "code",
   "execution_count": null,
   "id": "e81059ad",
   "metadata": {},
   "outputs": [],
   "source": [
    "# SVM WITH RBF KERNAL, C AND GAMMA HYPERPARAMTER \n",
    "for this_gamma in [.1,.5,.10,.25,.50,1]:\n",
    "    for this_C in [1,5,7,10,15,25,50]:\n",
    "        clf3 = SVC(kernel='rbf',C=this_C,gamma=this_gamma).fit(X_train,y_train)\n",
    "        clf3train = clf3.score(X_train,y_train)\n",
    "        clf3test  = clf3.score(X_test,y_test)\n",
    "        print(\"SVM for Non Linear \\n Gamma: {} C:{} Training Score : {:2f} Test Score : {:2f}\\n\".format(this_gamma,this_C,clf3train,clf3test))"
   ]
  },
  {
   "cell_type": "code",
   "execution_count": null,
   "id": "72537a3d",
   "metadata": {},
   "outputs": [],
   "source": [
    "# Run SVM with sigmoid kernel and C=100.0\n",
    "from sklearn.metrics import accuracy_score\n",
    "# instantiate classifier with sigmoid kernel and C=100.0\n",
    "sigmoid_svc100=SVC(kernel='sigmoid', C=100.0) \n",
    "\n",
    "\n",
    "# fit classifier to training set\n",
    "sigmoid_svc100.fit(X_train,y_train)\n",
    "\n",
    "\n",
    "# make predictions on test set\n",
    "y_pred=sigmoid_svc100.predict(X_test)\n",
    "\n",
    "\n",
    "# compute and print accuracy score\n",
    "print('Model accuracy score with sigmoid kernel and C=100.0 : {0:0.4f}'. format(accuracy_score(y_test, y_pred)))\n",
    "\n"
   ]
  },
  {
   "cell_type": "code",
   "execution_count": null,
   "id": "da7b6648",
   "metadata": {},
   "outputs": [],
   "source": [
    "from sklearn.metrics import confusion_matrix\n",
    "\n",
    "cm = confusion_matrix(y_test, y_pred)\n",
    "\n",
    "print('Confusion matrix\\n\\n', cm)\n",
    "\n",
    "print('\\nTrue Positives(TP) = ', cm[0,0])\n",
    "\n",
    "print('\\nTrue Negatives(TN) = ', cm[1,1])\n",
    "\n",
    "print('\\nFalse Positives(FP) = ', cm[0,1])\n",
    "\n",
    "print('\\nFalse Negatives(FN) = ', cm[1,0])"
   ]
  },
  {
   "cell_type": "code",
   "execution_count": null,
   "id": "774ec9d3",
   "metadata": {},
   "outputs": [],
   "source": [
    "# plot ROC Curve\n",
    "\n",
    "from sklearn.metrics import roc_curve\n",
    "\n",
    "fpr, tpr, thresholds = roc_curve(y_test, y_pred)\n",
    "\n",
    "plt.figure(figsize=(6,4))\n",
    "\n",
    "plt.plot(fpr, tpr, linewidth=2)\n",
    "\n",
    "plt.plot([0,1], [0,1], 'k--' )\n",
    "\n",
    "plt.rcParams['font.size'] = 12\n",
    "\n",
    "plt.title('ROC curve for Predicting a Pulsar Star classifier')\n",
    "\n",
    "plt.xlabel('False Positive Rate (1 - Specificity)')\n",
    "\n",
    "plt.ylabel('True Positive Rate (Sensitivity)')\n",
    "\n",
    "plt.show()"
   ]
  },
  {
   "cell_type": "code",
   "execution_count": null,
   "id": "ca59db31",
   "metadata": {},
   "outputs": [],
   "source": [
    "# compute ROC AUC\n",
    "\n",
    "from sklearn.metrics import roc_auc_score\n",
    "\n",
    "ROC_AUC = roc_auc_score(y_test, y_pred)\n",
    "\n",
    "print('ROC AUC : {:.4f}'.format(ROC_AUC))"
   ]
  }
 ],
 "metadata": {
  "kernelspec": {
   "display_name": "Python 3 (ipykernel)",
   "language": "python",
   "name": "python3"
  },
  "language_info": {
   "codemirror_mode": {
    "name": "ipython",
    "version": 3
   },
   "file_extension": ".py",
   "mimetype": "text/x-python",
   "name": "python",
   "nbconvert_exporter": "python",
   "pygments_lexer": "ipython3",
   "version": "3.9.12"
  }
 },
 "nbformat": 4,
 "nbformat_minor": 5
}
